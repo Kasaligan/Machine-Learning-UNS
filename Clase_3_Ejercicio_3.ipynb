{
  "nbformat": 4,
  "nbformat_minor": 0,
  "metadata": {
    "colab": {
      "name": "Clase 3 - Ejercicio 3",
      "provenance": [],
      "collapsed_sections": [],
      "authorship_tag": "ABX9TyMeMSt+QxKl7fl8lMSCAgzN",
      "include_colab_link": true
    },
    "kernelspec": {
      "name": "python3",
      "display_name": "Python 3"
    },
    "language_info": {
      "name": "python"
    }
  },
  "cells": [
    {
      "cell_type": "markdown",
      "metadata": {
        "id": "view-in-github",
        "colab_type": "text"
      },
      "source": [
        "<a href=\"https://colab.research.google.com/github/Kasaligan/Machine-Learning-UNS/blob/main/Clase_3_Ejercicio_3.ipynb\" target=\"_parent\"><img src=\"https://colab.research.google.com/assets/colab-badge.svg\" alt=\"Open In Colab\"/></a>"
      ]
    },
    {
      "cell_type": "markdown",
      "metadata": {
        "id": "IfHs4eT8tpp6"
      },
      "source": [
        "Importo el dataset con las canciones."
      ]
    },
    {
      "cell_type": "code",
      "metadata": {
        "colab": {
          "base_uri": "https://localhost:8080/",
          "height": 320
        },
        "id": "6aKVX6Y3qyGc",
        "outputId": "c25d35ca-6af9-44b0-d6ba-5f1d4f3c6a66"
      },
      "source": [
        "import pandas as pd\n",
        "import matplotlib.pyplot as plt \n",
        "from sklearn.neighbors import KNeighborsClassifier\n",
        "import numpy as np\n",
        "\n",
        "\n",
        "atributos = pd.read_csv(\"https://raw.githubusercontent.com/emmanueliarussi/DataScienceCapstone/master/3_MidtermProjects/ProjectBOM/data/attributes_spotify.csv\")\n",
        "atributos.describe()"
      ],
      "execution_count": null,
      "outputs": [
        {
          "output_type": "execute_result",
          "data": {
            "text/html": [
              "<div>\n",
              "<style scoped>\n",
              "    .dataframe tbody tr th:only-of-type {\n",
              "        vertical-align: middle;\n",
              "    }\n",
              "\n",
              "    .dataframe tbody tr th {\n",
              "        vertical-align: top;\n",
              "    }\n",
              "\n",
              "    .dataframe thead th {\n",
              "        text-align: right;\n",
              "    }\n",
              "</style>\n",
              "<table border=\"1\" class=\"dataframe\">\n",
              "  <thead>\n",
              "    <tr style=\"text-align: right;\">\n",
              "      <th></th>\n",
              "      <th>Unnamed: 0</th>\n",
              "      <th>acousticness</th>\n",
              "      <th>danceability</th>\n",
              "      <th>duration_ms</th>\n",
              "      <th>energy</th>\n",
              "      <th>instrumentalness</th>\n",
              "      <th>key</th>\n",
              "      <th>liveness</th>\n",
              "      <th>loudness</th>\n",
              "      <th>mode</th>\n",
              "      <th>speechiness</th>\n",
              "      <th>tempo</th>\n",
              "      <th>time_signature</th>\n",
              "      <th>valence</th>\n",
              "      <th>target</th>\n",
              "    </tr>\n",
              "  </thead>\n",
              "  <tbody>\n",
              "    <tr>\n",
              "      <th>count</th>\n",
              "      <td>2017.000000</td>\n",
              "      <td>2017.000000</td>\n",
              "      <td>2017.000000</td>\n",
              "      <td>2.017000e+03</td>\n",
              "      <td>2017.000000</td>\n",
              "      <td>2017.000000</td>\n",
              "      <td>2017.000000</td>\n",
              "      <td>2017.000000</td>\n",
              "      <td>2017.000000</td>\n",
              "      <td>2017.000000</td>\n",
              "      <td>2017.000000</td>\n",
              "      <td>2017.000000</td>\n",
              "      <td>2017.000000</td>\n",
              "      <td>2017.000000</td>\n",
              "      <td>2017.000000</td>\n",
              "    </tr>\n",
              "    <tr>\n",
              "      <th>mean</th>\n",
              "      <td>1008.000000</td>\n",
              "      <td>0.187590</td>\n",
              "      <td>0.618422</td>\n",
              "      <td>2.463062e+05</td>\n",
              "      <td>0.681577</td>\n",
              "      <td>0.133286</td>\n",
              "      <td>5.342588</td>\n",
              "      <td>0.190844</td>\n",
              "      <td>-7.085624</td>\n",
              "      <td>0.612295</td>\n",
              "      <td>0.092664</td>\n",
              "      <td>121.603272</td>\n",
              "      <td>3.968270</td>\n",
              "      <td>0.496815</td>\n",
              "      <td>0.505702</td>\n",
              "    </tr>\n",
              "    <tr>\n",
              "      <th>std</th>\n",
              "      <td>582.402066</td>\n",
              "      <td>0.259989</td>\n",
              "      <td>0.161029</td>\n",
              "      <td>8.198181e+04</td>\n",
              "      <td>0.210273</td>\n",
              "      <td>0.273162</td>\n",
              "      <td>3.648240</td>\n",
              "      <td>0.155453</td>\n",
              "      <td>3.761684</td>\n",
              "      <td>0.487347</td>\n",
              "      <td>0.089931</td>\n",
              "      <td>26.685604</td>\n",
              "      <td>0.255853</td>\n",
              "      <td>0.247195</td>\n",
              "      <td>0.500091</td>\n",
              "    </tr>\n",
              "    <tr>\n",
              "      <th>min</th>\n",
              "      <td>0.000000</td>\n",
              "      <td>0.000003</td>\n",
              "      <td>0.122000</td>\n",
              "      <td>1.604200e+04</td>\n",
              "      <td>0.014800</td>\n",
              "      <td>0.000000</td>\n",
              "      <td>0.000000</td>\n",
              "      <td>0.018800</td>\n",
              "      <td>-33.097000</td>\n",
              "      <td>0.000000</td>\n",
              "      <td>0.023100</td>\n",
              "      <td>47.859000</td>\n",
              "      <td>1.000000</td>\n",
              "      <td>0.034800</td>\n",
              "      <td>0.000000</td>\n",
              "    </tr>\n",
              "    <tr>\n",
              "      <th>25%</th>\n",
              "      <td>504.000000</td>\n",
              "      <td>0.009630</td>\n",
              "      <td>0.514000</td>\n",
              "      <td>2.000150e+05</td>\n",
              "      <td>0.563000</td>\n",
              "      <td>0.000000</td>\n",
              "      <td>2.000000</td>\n",
              "      <td>0.092300</td>\n",
              "      <td>-8.394000</td>\n",
              "      <td>0.000000</td>\n",
              "      <td>0.037500</td>\n",
              "      <td>100.189000</td>\n",
              "      <td>4.000000</td>\n",
              "      <td>0.295000</td>\n",
              "      <td>0.000000</td>\n",
              "    </tr>\n",
              "    <tr>\n",
              "      <th>50%</th>\n",
              "      <td>1008.000000</td>\n",
              "      <td>0.063300</td>\n",
              "      <td>0.631000</td>\n",
              "      <td>2.292610e+05</td>\n",
              "      <td>0.715000</td>\n",
              "      <td>0.000076</td>\n",
              "      <td>6.000000</td>\n",
              "      <td>0.127000</td>\n",
              "      <td>-6.248000</td>\n",
              "      <td>1.000000</td>\n",
              "      <td>0.054900</td>\n",
              "      <td>121.427000</td>\n",
              "      <td>4.000000</td>\n",
              "      <td>0.492000</td>\n",
              "      <td>1.000000</td>\n",
              "    </tr>\n",
              "    <tr>\n",
              "      <th>75%</th>\n",
              "      <td>1512.000000</td>\n",
              "      <td>0.265000</td>\n",
              "      <td>0.738000</td>\n",
              "      <td>2.703330e+05</td>\n",
              "      <td>0.846000</td>\n",
              "      <td>0.054000</td>\n",
              "      <td>9.000000</td>\n",
              "      <td>0.247000</td>\n",
              "      <td>-4.746000</td>\n",
              "      <td>1.000000</td>\n",
              "      <td>0.108000</td>\n",
              "      <td>137.849000</td>\n",
              "      <td>4.000000</td>\n",
              "      <td>0.691000</td>\n",
              "      <td>1.000000</td>\n",
              "    </tr>\n",
              "    <tr>\n",
              "      <th>max</th>\n",
              "      <td>2016.000000</td>\n",
              "      <td>0.995000</td>\n",
              "      <td>0.984000</td>\n",
              "      <td>1.004627e+06</td>\n",
              "      <td>0.998000</td>\n",
              "      <td>0.976000</td>\n",
              "      <td>11.000000</td>\n",
              "      <td>0.969000</td>\n",
              "      <td>-0.307000</td>\n",
              "      <td>1.000000</td>\n",
              "      <td>0.816000</td>\n",
              "      <td>219.331000</td>\n",
              "      <td>5.000000</td>\n",
              "      <td>0.992000</td>\n",
              "      <td>1.000000</td>\n",
              "    </tr>\n",
              "  </tbody>\n",
              "</table>\n",
              "</div>"
            ],
            "text/plain": [
              "        Unnamed: 0  acousticness  ...      valence       target\n",
              "count  2017.000000   2017.000000  ...  2017.000000  2017.000000\n",
              "mean   1008.000000      0.187590  ...     0.496815     0.505702\n",
              "std     582.402066      0.259989  ...     0.247195     0.500091\n",
              "min       0.000000      0.000003  ...     0.034800     0.000000\n",
              "25%     504.000000      0.009630  ...     0.295000     0.000000\n",
              "50%    1008.000000      0.063300  ...     0.492000     1.000000\n",
              "75%    1512.000000      0.265000  ...     0.691000     1.000000\n",
              "max    2016.000000      0.995000  ...     0.992000     1.000000\n",
              "\n",
              "[8 rows x 15 columns]"
            ]
          },
          "metadata": {
            "tags": []
          },
          "execution_count": 109
        }
      ]
    },
    {
      "cell_type": "markdown",
      "metadata": {
        "id": "TRFHCu8Rvojk"
      },
      "source": [
        "Veo las etiquetas del dataset para corroborar orden y datos de cada etiqueta."
      ]
    },
    {
      "cell_type": "code",
      "metadata": {
        "colab": {
          "base_uri": "https://localhost:8080/"
        },
        "id": "vPxHp6L8vxtl",
        "outputId": "0b9ec58d-c173-4ad2-f4b9-dcebc6f6ac59"
      },
      "source": [
        "print(atributos)\n",
        "print(atributos.columns)\n"
      ],
      "execution_count": null,
      "outputs": [
        {
          "output_type": "stream",
          "text": [
            "      Unnamed: 0  ...            artist\n",
            "0              0  ...            Future\n",
            "1              1  ...  Childish Gambino\n",
            "2              2  ...            Future\n",
            "3              3  ...       Beach House\n",
            "4              4  ...       Junior Boys\n",
            "...          ...  ...               ...\n",
            "2012        2012  ...    Kill The Noise\n",
            "2013        2013  ...    Dillon Francis\n",
            "2014        2014  ...          Rain Man\n",
            "2015        2015  ...        Twin Moons\n",
            "2016        2016  ...         Bleachers\n",
            "\n",
            "[2017 rows x 17 columns]\n",
            "Index(['Unnamed: 0', 'acousticness', 'danceability', 'duration_ms', 'energy',\n",
            "       'instrumentalness', 'key', 'liveness', 'loudness', 'mode',\n",
            "       'speechiness', 'tempo', 'time_signature', 'valence', 'target',\n",
            "       'song_title', 'artist'],\n",
            "      dtype='object')\n"
          ],
          "name": "stdout"
        }
      ]
    },
    {
      "cell_type": "markdown",
      "metadata": {
        "id": "L9kEVHQw5TYH"
      },
      "source": [
        "En base a la informacion vista hasta ahora observo que:\n",
        "1.   La primera columna es un indice y puede ser eliminada. Este indice ya lo tenemos incorporado en el propio dataframe.\n",
        "2.   Puede ser conveniente separar el dataset en tres partes: \n",
        "  * parametros cuantitativos\n",
        "  * parametros cualitativos (nombre de cancion, artista)\n",
        "  * target\n",
        "\n",
        "Llamaremos a estos sub-datasets: \"param_n\" , \"param_c\" y \"target\".\n",
        "\n",
        "Como no se si algun ordenamiento en el dataset, y luego tendre que separar estas divisiones en train y test para el diseño y comprobacion del predictor, primero mezclo las filas del dataset de atributos."
      ]
    },
    {
      "cell_type": "code",
      "metadata": {
        "colab": {
          "base_uri": "https://localhost:8080/"
        },
        "id": "rDmC7yvtxgYL",
        "outputId": "7b2fb4f5-fa32-4bdd-813d-acc15b5a29c0"
      },
      "source": [
        "atributos_rand=atributos.sample(frac=1)   #mezclo filas del datast\n",
        "\n",
        "param_n=atributos_rand.drop(['Unnamed: 0','song_title','artist','target'] , axis=1)     #elimino las columnas indicadas\n",
        "param_c=atributos_rand.drop(atributos.columns.difference(['song_title','artist']) , axis=1)    #elimino las columnas *distintas* a las indicadas\n",
        "target=atributos_rand.drop(atributos.columns.difference(['target']) , axis=1)\n",
        "\n",
        "#Muestro las etiquetas de las columnas para confirmar\n",
        "print('Columnas de param_n:\\n' , param_n.columns,'\\n')\n",
        "print('Columnas de param_c:\\n' ,param_c.columns,'\\n')\n",
        "print('Columnas de target:\\n' ,target.columns,'\\n')\n",
        "print(atributos_rand)"
      ],
      "execution_count": null,
      "outputs": [
        {
          "output_type": "stream",
          "text": [
            "Columnas de param_n:\n",
            " Index(['acousticness', 'danceability', 'duration_ms', 'energy',\n",
            "       'instrumentalness', 'key', 'liveness', 'loudness', 'mode',\n",
            "       'speechiness', 'tempo', 'time_signature', 'valence'],\n",
            "      dtype='object') \n",
            "\n",
            "Columnas de param_c:\n",
            " Index(['song_title', 'artist'], dtype='object') \n",
            "\n",
            "Columnas de target:\n",
            " Index(['target'], dtype='object') \n",
            "\n",
            "      Unnamed: 0  ...              artist\n",
            "545          545  ...              Miguel\n",
            "321          321  ...         Goody Goody\n",
            "276          276  ...               Ekkah\n",
            "983          983  ...           LION BABE\n",
            "1597        1597  ...  Wilhelm Stenhammar\n",
            "...          ...  ...                 ...\n",
            "915          915  ...           New Order\n",
            "1451        1451  ...        Mickey Valen\n",
            "1188        1188  ...             Pitbull\n",
            "1941        1941  ...     Billy Ray Cyrus\n",
            "1909        1909  ...         Spice Girls\n",
            "\n",
            "[2017 rows x 17 columns]\n"
          ],
          "name": "stdout"
        }
      ]
    },
    {
      "cell_type": "markdown",
      "metadata": {
        "id": "rXrkMVDk9Xbb"
      },
      "source": [
        "A continuacion creo histogramas para visualizar la forma de los parametros numericos (solo porque es un dataset relativamente chico, no podria hacerlo si tuviera datasets mas grandes) y comparar con los resulados del analisis estadistico hecho en la primer seccion. Lo que busco es indentificar si hay distribuciones que puedan considerarse gaussianas, o si hay etiquetas con distribuciones \"extrañas\"."
      ]
    },
    {
      "cell_type": "code",
      "metadata": {
        "colab": {
          "base_uri": "https://localhost:8080/",
          "height": 625
        },
        "id": "5EIWfJWP9dTy",
        "outputId": "95172c02-166c-478f-dff2-db0ebe1fac1e"
      },
      "source": [
        "rango_param_n=len(param_n.columns)     #El numero de columnas o parametros del sub-dataset\n",
        "intervalos=30     #El numero de intervalos en el histograma\n",
        "\n",
        "Tot = rango_param_n             #number_of_subplots\n",
        "Cols = rango_param_n//2         #number_of_columns\n",
        "\n",
        "# Compute Rows required\n",
        "\n",
        "Rows = Tot // Cols \n",
        "Rows += Tot % Cols\n",
        "\n",
        "plt.figure()\n",
        "plt.figure(figsize=(20,10))\n",
        "for i in range(rango_param_n):\n",
        "  \n",
        "  v=i+1               #esto va aca pues i inicia en cero y el primer subplot es de indice 1\n",
        "  plt.subplot(Rows,Cols,v)\n",
        "  plt.hist(param_n.iloc[:,i], bins=intervalos, color='#F2AB6D', rwidth=0.85)\n",
        "  plt.title(param_n.columns[i])"
      ],
      "execution_count": null,
      "outputs": [
        {
          "output_type": "display_data",
          "data": {
            "text/plain": [
              "<Figure size 432x288 with 0 Axes>"
            ]
          },
          "metadata": {
            "tags": []
          }
        },
        {
          "output_type": "display_data",
          "data": {
            "image/png": "[encoded data removed]",
            "text/plain": [
              "<Figure size 1440x720 with 13 Axes>"
            ]
          },
          "metadata": {
            "tags": [],
            "needs_background": "light"
          }
        }
      ]
    },
    {
      "cell_type": "markdown",
      "metadata": {
        "id": "e1kE2IY2JoXm"
      },
      "source": [
        "Viendo los histogramas puedo hacer una relacion mas con los parametros estadisticos, y distiguir algunas cosas mas.\n",
        "\n",
        "**DATOS ELIMINADOS**\n",
        "1. Vemos que la columna \"time_signature\" tiene solo 3 valores posibles, y esta demasiado concentrada en uno de ellos, por lo que es poco probable que nos brinde buena informacion para el clasificador. \n",
        "2. La columna \"mode\" esta muy polarizada, y solo con dos valores posibles. Busque informacion sobre que es el \"modo\" en la musica y nada de lo que pude encontrar daria mediciones siquiera parecidas a lo que tenemos. Descartamos este dato pues no parece ser algo de la musica.\n",
        "3. \"instumentalness\" es nuevamente una distribucion muy concentrada. Es poco probable que nos brinde informacion relevante para el clasificador pues la gran mayoria de las canciones tendran valores pequeños.\n",
        "\n",
        "**DATOS CON POSIBLE INFORMACION **\n",
        "\n",
        "1. \"speechiness\" y \"acousticness\" son dos etiquetas que, si bien presentan cierta concentracion en su distribucion, estan mas dispersas que las etiquetas que seleccionamos para eliminar. Seria interesante ver como se alteran los resultados del predictor al eliminar estos parametros."
      ]
    },
    {
      "cell_type": "markdown",
      "metadata": {
        "id": "sYWLD1lDRs0O"
      },
      "source": [
        "En base a lo expuesto hasta ahora, diseñare cuatro predictores basados en KNN.\n",
        "Los predictores A,B y C no incluiran datos sobre el nombre de la cancion o del artista. El nombre de la cancion se omite pues existe una gran variedad de nombres de canciones, e incluso por experiencia puedo decir que cancioes de nombres \"similares\" pueden pertenecer a generos muy distintos. Ademas, deberia implementarse un procesador de texto que interprete las ideas de los nombres de las canciones y blah blah blah la cosa es que es demasiado quilombo jaja.\n",
        "El nombre del artista por otro lado puede dejarse de lado. En principio el objetivo es recomendar musica nueva para el usuario, y si existe una preferencia por un artista en particular es probable que el mismo usuario busque las canciones de dicho artista. \n",
        "\n",
        "\n",
        "**PREDICTOR A:**: Se eliminan las etiquetas de **datos eliminados** y las de **datos con posible informacion**.\n",
        "\n",
        "**PREDICTOR B:** Se eliminan las etiquetas de **datos eliminados**.\n",
        "\n",
        "**PREDICTOR C:** Se incluyen todas las etiquetas numericas.\n",
        "\n",
        "**PREDICTOR D, situacional:** Solo si veo que el predictor tiene lugar para mejora, hare un ultimo predictor que tome en cuenta el nombre del artista. "
      ]
    },
    {
      "cell_type": "markdown",
      "metadata": {
        "id": "Q7_YmGWJYBrH"
      },
      "source": [
        "Preparo los datasets base para cada predictor eliminando las columnas que correspondan. Los datasets propios se definen dentro de cada predictor eliminando las columnas correspondientes."
      ]
    },
    {
      "cell_type": "code",
      "metadata": {
        "id": "9cxENtX4YgzT"
      },
      "source": [
        "param_n_train=param_n.iloc[0:(len(param_n)//2)]\n",
        "param_n_test=param_n.iloc[(len(param_n)//2)+1:]\n",
        "\n",
        "#Todos los datasets comparten el target train y test, y los parametros de artista y nombre de cancion\n",
        "target_train=target.iloc[0:(len(param_n)//2)]\n",
        "target_test=target.iloc[(len(param_n)//2)+1:]\n",
        "\n",
        "param_c_train=param_c.iloc[0:(len(param_n)//2)]\n",
        "param_c_test=param_c.iloc[(len(param_n)//2)+1:]"
      ],
      "execution_count": null,
      "outputs": []
    },
    {
      "cell_type": "markdown",
      "metadata": {
        "id": "o8hyPDlAOGuX"
      },
      "source": [
        "Los siguientes predictores (A, B y C) comparten el mismo codigo. El codigo solo cambia con el predictor D (pero solo el pre-procesamiento de los datos para el KNN, luego la implementacion del KNN y evaluacion de exactitud, precision y f-measure son similares)."
      ]
    },
    {
      "cell_type": "markdown",
      "metadata": {
        "id": "2_zUnMKzYUjL"
      },
      "source": [
        "A continuacion se elige la cantidad de vecinos que evaluaran los modelos."
      ]
    },
    {
      "cell_type": "code",
      "metadata": {
        "id": "ROaQLg1VYapb"
      },
      "source": [
        "n_neig=31"
      ],
      "execution_count": null,
      "outputs": []
    },
    {
      "cell_type": "markdown",
      "metadata": {
        "id": "fn9xXnMrZyxM"
      },
      "source": [
        "# **PREDICTOR A**"
      ]
    },
    {
      "cell_type": "code",
      "metadata": {
        "colab": {
          "base_uri": "https://localhost:8080/"
        },
        "id": "mzpkrQHGaDlU",
        "outputId": "d14913b9-ef4d-4e76-9781-47860f06546b"
      },
      "source": [
        "#Dataset para el predictor A\n",
        "param_n_A_train=param_n_train.drop(['time_signature','mode','instrumentalness','speechiness','acousticness'],axis=1)\n",
        "param_n_A_test=param_n_test.drop(['time_signature','mode','instrumentalness','speechiness','acousticness'],axis=1)\n",
        "\n",
        "#Entreno el modelo KNN\n",
        "KNN_A = KNeighborsClassifier(n_neighbors=n_neig,algorithm=\"kd_tree\")\n",
        "KNN_A.fit(param_n_A_train,target_train)"
      ],
      "execution_count": null,
      "outputs": [
        {
          "output_type": "stream",
          "text": [
            "/usr/local/lib/python3.7/dist-packages/ipykernel_launcher.py:7: DataConversionWarning: A column-vector y was passed when a 1d array was expected. Please change the shape of y to (n_samples, ), for example using ravel().\n",
            "  import sys\n"
          ],
          "name": "stderr"
        },
        {
          "output_type": "execute_result",
          "data": {
            "text/plain": [
              "KNeighborsClassifier(algorithm='kd_tree', leaf_size=30, metric='minkowski',\n",
              "                     metric_params=None, n_jobs=None, n_neighbors=31, p=2,\n",
              "                     weights='uniform')"
            ]
          },
          "metadata": {
            "tags": []
          },
          "execution_count": 115
        }
      ]
    },
    {
      "cell_type": "markdown",
      "metadata": {
        "id": "h5rl0YtGfOkn"
      },
      "source": [
        "Para la comprobacion podria calcular exactitud, precision y f-measure. Puesto que solo tengo dos posibles clasificaciones (target=1 o target=0) puedo reutilizar el codigo que prepare para \"Clase 3 - Ejercicio 1\", adaptandolo adecuadamente."
      ]
    },
    {
      "cell_type": "code",
      "metadata": {
        "colab": {
          "base_uri": "https://localhost:8080/"
        },
        "id": "ZAK_T1FWgFAh",
        "outputId": "28d23671-82ea-4fdd-8fd1-1c04d82f9077"
      },
      "source": [
        "TP=0\n",
        "TN=0\n",
        "FP=0\n",
        "FN=0\n",
        "\n",
        "#Evaluo el clasificador binario respecto a \"1\" (caso positivo).\n",
        "\n",
        "#Como los elementos de prediccion y testeo tienen formato \"serie\" \n",
        "#y esto es ambiguo a nivel booleano, convierto en cada invocacion el parametro a \n",
        "#tipo int cada vez que lo invoco dentro de un \"if\"\n",
        "#No es la solucion mas elegante, pero no encontre una mejor buscando. \n",
        "#Acepto sugerencias\n",
        "\n",
        "for i in range(len(param_n_A_test)):\n",
        "  if (int(KNN_A.predict([param_n_A_test.iloc[i]]))==int(target_test.iloc[i])==1):    #Comparo la etiqueta predicha con la real y en base a eso asigno los parametros\n",
        "    TP=TP+1\n",
        "  elif (int(KNN_A.predict([param_n_A_test.iloc[i]]))==int(target_test.iloc[i])==0):\n",
        "    TN=TN+1\n",
        "  elif (int(KNN_A.predict([param_n_A_test.iloc[i]]))!=int(target_test.iloc[i])==1):\n",
        "    FN=FN+1\n",
        "  elif (int(KNN_A.predict([param_n_A_test.iloc[i]]))!=int(target_test.iloc[i])==0):\n",
        "    FP=FP+1\n",
        "\n",
        "#Calculo los parametros estadisticos\n",
        "exact_A = (TP+TN)/(TP+TN+FP+FN)\n",
        "prec_A =  TP/(TP+FP)\n",
        "f_m_A = TP/(TP+0.5*(FP+FN))\n",
        "print(\"Exactitud: \",exact_A,\"\\nPrecision: \",prec_A,\"\\nF-measure: \",f_m_A)"
      ],
      "execution_count": null,
      "outputs": [
        {
          "output_type": "stream",
          "text": [
            "Exactitud:  0.5962301587301587 \n",
            "Precision:  0.5790441176470589 \n",
            "F-measure:  0.6075216972034716\n"
          ],
          "name": "stdout"
        }
      ]
    },
    {
      "cell_type": "markdown",
      "metadata": {
        "id": "yXJ43i85omMB"
      },
      "source": [
        "# **PREDICTOR B**"
      ]
    },
    {
      "cell_type": "code",
      "metadata": {
        "colab": {
          "base_uri": "https://localhost:8080/"
        },
        "id": "2iNrUHMeomME",
        "outputId": "20c523d8-9a18-485d-93ef-57d82dc21a6c"
      },
      "source": [
        "#Dataset para el predictor B\n",
        "param_n_B_train=param_n_train.drop(['time_signature','mode','instrumentalness'],axis=1)\n",
        "param_n_B_test=param_n_test.drop(['time_signature','mode','instrumentalness'],axis=1)\n",
        "\n",
        "#Entreno el modelo KNN\n",
        "KNN_B = KNeighborsClassifier(n_neighbors=n_neig,algorithm=\"kd_tree\")\n",
        "KNN_B.fit(param_n_B_train,target_train)"
      ],
      "execution_count": null,
      "outputs": [
        {
          "output_type": "stream",
          "text": [
            "/usr/local/lib/python3.7/dist-packages/ipykernel_launcher.py:7: DataConversionWarning: A column-vector y was passed when a 1d array was expected. Please change the shape of y to (n_samples, ), for example using ravel().\n",
            "  import sys\n"
          ],
          "name": "stderr"
        },
        {
          "output_type": "execute_result",
          "data": {
            "text/plain": [
              "KNeighborsClassifier(algorithm='kd_tree', leaf_size=30, metric='minkowski',\n",
              "                     metric_params=None, n_jobs=None, n_neighbors=31, p=2,\n",
              "                     weights='uniform')"
            ]
          },
          "metadata": {
            "tags": []
          },
          "execution_count": 117
        }
      ]
    },
    {
      "cell_type": "markdown",
      "metadata": {
        "id": "dMmjIxhfomMH"
      },
      "source": [
        "Para la comprobacion podria calcular exactitud, precision y f-measure. Puesto que solo tengo dos posibles clasificaciones (target=1 o target=0) puedo reutilizar el codigo que prepare para \"Clase 3 - Ejercicio 1\", adaptandolo adecuadamente."
      ]
    },
    {
      "cell_type": "code",
      "metadata": {
        "colab": {
          "base_uri": "https://localhost:8080/"
        },
        "id": "iCOFzuU7omMJ",
        "outputId": "6486d487-643f-4544-9a25-1ac5a10226bf"
      },
      "source": [
        "TP=0\n",
        "TN=0\n",
        "FP=0\n",
        "FN=0\n",
        "\n",
        "#Evaluo el clasificador binario respecto a \"1\" (caso positivo).\n",
        "\n",
        "#Como los elementos de prediccion y testeo tienen formato \"serie\" \n",
        "#y esto es ambiguo a nivel booleano, convierto en cada invocacion el parametro a \n",
        "#tipo int cada vez que lo invoco dentro de un \"if\"\n",
        "#No es la solucion mas elegante, pero no encontre una mejor buscando. \n",
        "#Acepto sugerencias\n",
        "\n",
        "for i in range(len(param_n_B_test)):\n",
        "  if (int(KNN_B.predict([param_n_B_test.iloc[i]]))==int(target_test.iloc[i])==1):    #Comparo la etiqueta predicha con la real y en base a eso asigno los parametros\n",
        "    TP=TP+1\n",
        "  elif (int(KNN_B.predict([param_n_B_test.iloc[i]]))==int(target_test.iloc[i])==0):\n",
        "    TN=TN+1\n",
        "  elif (int(KNN_B.predict([param_n_B_test.iloc[i]]))!=int(target_test.iloc[i])==1):\n",
        "    FN=FN+1\n",
        "  elif (int(KNN_B.predict([param_n_B_test.iloc[i]]))!=int(target_test.iloc[i])==0):\n",
        "    FP=FP+1\n",
        "\n",
        "#Calculo los parametros estadisticos\n",
        "exact_B = (TP+TN)/(TP+TN+FP+FN)\n",
        "prec_B =  TP/(TP+FP)\n",
        "f_m_B = TP/(TP+0.5*(FP+FN))\n",
        "print(\"Exactitud: \",exact_B,\"\\nPrecision: \",prec_B,\"\\nF-measure: \",f_m_B)"
      ],
      "execution_count": null,
      "outputs": [
        {
          "output_type": "stream",
          "text": [
            "Exactitud:  0.5962301587301587 \n",
            "Precision:  0.5790441176470589 \n",
            "F-measure:  0.6075216972034716\n"
          ],
          "name": "stdout"
        }
      ]
    },
    {
      "cell_type": "markdown",
      "metadata": {
        "id": "AIGjSPNQrEgq"
      },
      "source": [
        "# **PREDICTOR C**"
      ]
    },
    {
      "cell_type": "code",
      "metadata": {
        "colab": {
          "base_uri": "https://localhost:8080/"
        },
        "id": "fPOH5fnDrEgr",
        "outputId": "ba3c1b0b-8abb-485f-de16-aa61b63a0fa5"
      },
      "source": [
        "#Dataset para el predictor A\n",
        "param_n_C_train=param_n_train\n",
        "param_n_C_test=param_n_test\n",
        "\n",
        "#Entreno el modelo KNN\n",
        "KNN_C = KNeighborsClassifier(n_neighbors=n_neig,algorithm=\"kd_tree\")\n",
        "KNN_C.fit(param_n_C_train,target_train)"
      ],
      "execution_count": null,
      "outputs": [
        {
          "output_type": "stream",
          "text": [
            "/usr/local/lib/python3.7/dist-packages/ipykernel_launcher.py:7: DataConversionWarning: A column-vector y was passed when a 1d array was expected. Please change the shape of y to (n_samples, ), for example using ravel().\n",
            "  import sys\n"
          ],
          "name": "stderr"
        },
        {
          "output_type": "execute_result",
          "data": {
            "text/plain": [
              "KNeighborsClassifier(algorithm='kd_tree', leaf_size=30, metric='minkowski',\n",
              "                     metric_params=None, n_jobs=None, n_neighbors=31, p=2,\n",
              "                     weights='uniform')"
            ]
          },
          "metadata": {
            "tags": []
          },
          "execution_count": 119
        }
      ]
    },
    {
      "cell_type": "markdown",
      "metadata": {
        "id": "L4fjYekLrEgs"
      },
      "source": [
        "Para la comprobacion podria calcular exactitud, precision y f-measure. Puesto que solo tengo dos posibles clasificaciones (target=1 o target=0) puedo reutilizar el codigo que prepare para \"Clase 3 - Ejercicio 1\", adaptandolo adecuadamente."
      ]
    },
    {
      "cell_type": "code",
      "metadata": {
        "colab": {
          "base_uri": "https://localhost:8080/"
        },
        "id": "ONgrOEfFrEgt",
        "outputId": "b0aaf427-9a83-4b28-9137-0c0aa76d7fcf"
      },
      "source": [
        "TP=0\n",
        "TN=0\n",
        "FP=0\n",
        "FN=0\n",
        "\n",
        "#Evaluo el clasificador binario respecto a \"1\" (caso positivo).\n",
        "\n",
        "#Como los elementos de prediccion y testeo tienen formato \"serie\" \n",
        "#y esto es ambiguo a nivel booleano, convierto en cada invocacion el parametro a \n",
        "#tipo int cada vez que lo invoco dentro de un \"if\"\n",
        "#No es la solucion mas elegante, pero no encontre una mejor buscando. \n",
        "#Acepto sugerencias\n",
        "\n",
        "for i in range(len(param_n_C_test)):\n",
        "  if (int(KNN_C.predict([param_n_C_test.iloc[i]]))==int(target_test.iloc[i])==1):    #Comparo la etiqueta predicha con la real y en base a eso asigno los parametros\n",
        "    TP=TP+1\n",
        "  elif (int(KNN_C.predict([param_n_C_test.iloc[i]]))==int(target_test.iloc[i])==0):\n",
        "    TN=TN+1\n",
        "  elif (int(KNN_C.predict([param_n_C_test.iloc[i]]))!=int(target_test.iloc[i])==1):\n",
        "    FN=FN+1\n",
        "  elif (int(KNN_C.predict([param_n_C_test.iloc[i]]))!=int(target_test.iloc[i])==0):\n",
        "    FP=FP+1\n",
        "\n",
        "#print(TP)\n",
        "#print(TN)\n",
        "#print(FP)\n",
        "#print(FN)\n",
        "\n",
        "#Calculo los parametros estadisticos\n",
        "exact_C = (TP+TN)/(TP+TN+FP+FN)\n",
        "prec_C =  TP/(TP+FP)\n",
        "f_m_C = TP/(TP+0.5*(FP+FN))\n",
        "print(\"Exactitud: \",exact_C,\"\\nPrecision: \",prec_C,\"\\nF-measure: \",f_m_C)"
      ],
      "execution_count": null,
      "outputs": [
        {
          "output_type": "stream",
          "text": [
            "Exactitud:  0.5962301587301587 \n",
            "Precision:  0.5790441176470589 \n",
            "F-measure:  0.6075216972034716\n"
          ],
          "name": "stdout"
        }
      ]
    },
    {
      "cell_type": "markdown",
      "metadata": {
        "id": "VQzd6D9rx_lQ"
      },
      "source": [
        "##**PREDICTOR D**\n",
        "\n",
        "Ya que no conseguimos una buena performance en ningun clasificador cuando despreciamos el artista pasamos a la implementacion del ultimo predictor. Este tiene todos los parametros. \n",
        "\n",
        "Como KNN solo funciona con valores numericos primero debo convertir de alguna forma los nombres de los artistas en numeros. Para esto primero recupero un dataset que contenga la columna de artistas. Analizo este dataset para recuperar una lista con cada nombre unico que aparece. Luego asigno a los elementos de esta lista un valor numerico. Una vez hecho esto modifico el dataset de canciones para que figure para cada cancion el numero de artista asignado. Esta columna sera la que permitira analizar los artistas con KNN."
      ]
    },
    {
      "cell_type": "code",
      "metadata": {
        "id": "JF5R-drBKltP"
      },
      "source": [
        "#Preparo los datasets\n",
        "\n",
        "param_n_D_train=param_n_train\n",
        "param_n_D_test=param_n_test\n",
        "\n",
        "#Recordemos que 'param_c' ya contiene solo artista y nombre de cancion\n",
        "param_c_D_train=param_c_train.loc[:,'artist']   #recupero solo la columna de artistas\n",
        "param_c_D_test=param_c_test.loc[:,'artist']   #recupero solo la columna de artistas\n"
      ],
      "execution_count": null,
      "outputs": []
    },
    {
      "cell_type": "code",
      "metadata": {
        "colab": {
          "base_uri": "https://localhost:8080/"
        },
        "id": "b9SKSHC8yQtz",
        "outputId": "eee64d53-d813-4711-aebe-17e07dc44bc8"
      },
      "source": [
        "#Preparo el indice numerico de artistas \n",
        "\n",
        "lista_de_artistas=set(param_c.loc[:,'artist'])    #creo la lista de artistas unicos, usando como base la lista completa \n",
        "artistas=pd.DataFrame(data=lista_de_artistas,columns=['artista'])     #paso la lista a un dataframe\n",
        "\n",
        "d2=np.array(range(0,len(artistas)))   #creo un indice numerico para los artistas\n",
        "artistas_num=pd.DataFrame(data=d2,columns=['num'])  #creo un dataframe con los indices\n",
        "\n",
        "artistas=pd.concat([artistas,artistas_num],axis=1)  #uno los dos dataframes\n",
        "print(artistas)"
      ],
      "execution_count": null,
      "outputs": [
        {
          "output_type": "stream",
          "text": [
            "                                  artista   num\n",
            "0                         David Hazeltine     0\n",
            "1                             Seven Lions     1\n",
            "2                                 Problem     2\n",
            "3                             Erkin Koray     3\n",
            "4                            Devin Dawson     4\n",
            "...                                   ...   ...\n",
            "1338  Carte Blanche (feat. Alexis Taylor)  1338\n",
            "1339                         Travis Hayes  1339\n",
            "1340                           The Afters  1340\n",
            "1341                            Kari Jobe  1341\n",
            "1342                       Counting Crows  1342\n",
            "\n",
            "[1343 rows x 2 columns]\n"
          ],
          "name": "stdout"
        }
      ]
    },
    {
      "cell_type": "markdown",
      "metadata": {
        "id": "chAo9Ad3CJsV"
      },
      "source": [
        "Preparo un bucle para asignar el valor numerico que corresponde a las canciones de los dataset de entrenamiento y testeo. Esta parte del codigo tarda unos 15-20 seg en ejecutarse."
      ]
    },
    {
      "cell_type": "code",
      "metadata": {
        "id": "8mDUdow-Ccsc"
      },
      "source": [
        "#---------------BUCLE PARA EL SET DE ENTRENAMIENTO\n",
        "\n",
        "#Creo este dataframe vacio para luego anexar a los datos con el indice numerico de cada artista\n",
        "artist_num_train = pd.DataFrame()\n",
        "\n",
        "for i in range(len(param_c_D_train)):\n",
        "  j=0  \n",
        "  while ( param_c_D_train.iloc[i] != artistas.loc[j,'artista'] ):   #Compara el artista de la cancion con el indice numerico de artistas \n",
        "    j=j+1\n",
        "  \n",
        "  #Saldra del bucle anterior cuando haya encontrado el indice del artista que corresponda luego puedo asignar\n",
        "  artist_num_train = artist_num_train.append([artistas.loc[j,'num']])\n",
        "\n",
        "\n",
        "#---------------BUCLE PARA EL SET DE TESTEO\n",
        "\n",
        "#Creo este dataframe vacio para luego anexar a los datos con el indice numerico de cada artista\n",
        "artist_num_test = pd.DataFrame()\n",
        "\n",
        "for i in range(len(param_c_D_test)):\n",
        "  j=0  \n",
        "  while ( param_c_D_test.iloc[i] != artistas.loc[j,'artista'] ):   #Compara el artista de la cancion con el indice numerico de artistas \n",
        "    j=j+1\n",
        "  \n",
        "  #Saldra del bucle anterior cuando haya encontrado el indice del artista que corresponda luego puedo asignar\n",
        "  artist_num_test = artist_num_test.append([artistas.loc[j,'num']])   \n"
      ],
      "execution_count": null,
      "outputs": []
    },
    {
      "cell_type": "code",
      "metadata": {
        "colab": {
          "base_uri": "https://localhost:8080/"
        },
        "id": "FUIzZNxg_Rhv",
        "outputId": "ce77ecb4-90b7-4c5d-84d5-50008f7a5482"
      },
      "source": [
        "print(artist_num_train)"
      ],
      "execution_count": null,
      "outputs": [
        {
          "output_type": "stream",
          "text": [
            "       0\n",
            "0     36\n",
            "0   1289\n",
            "0   1168\n",
            "0    850\n",
            "0    375\n",
            "..   ...\n",
            "0    760\n",
            "0    103\n",
            "0    377\n",
            "0    477\n",
            "0   1279\n",
            "\n",
            "[1008 rows x 1 columns]\n"
          ],
          "name": "stdout"
        }
      ]
    },
    {
      "cell_type": "markdown",
      "metadata": {
        "id": "gPnCtQxHJSB2"
      },
      "source": [
        "Ahora que tengo el indice numerico de artistas, lo anexo a los datos numericos y preparo el clasificador.\n"
      ]
    },
    {
      "cell_type": "code",
      "metadata": {
        "colab": {
          "base_uri": "https://localhost:8080/"
        },
        "id": "eb36g0yZJqU2",
        "outputId": "424bbb2f-e5d4-4335-9046-4972fe9747ec"
      },
      "source": [
        "#Para poder ejecutar la concatenacion de datos debo resetear los indices\n",
        "param_n_D_test.reset_index(drop=True,inplace=True) #Drop=True evita que se añada el indice viejo como columna\n",
        "param_n_D_train.reset_index(drop=True,inplace=True) #inplace modifica el propio archivo sin necesidad de crear uno nuevo\n",
        "artist_num_test.reset_index(drop=True,inplace=True)\n",
        "artist_num_train.reset_index(drop=True,inplace=True)\n",
        "\n",
        "param_n_D_train=pd.concat([param_n_D_train,artist_num_train],axis=1)  #concateno los datos numericos con los artistas (en formato numerico)\n",
        "param_n_D_test=pd.concat([param_n_D_test,artist_num_test],axis=1)\n",
        "\n",
        "#Entreno el modelo KNN\n",
        "KNN_D = KNeighborsClassifier(n_neighbors=n_neig,algorithm=\"kd_tree\")\n",
        "KNN_D.fit(param_n_D_train,target_train)"
      ],
      "execution_count": null,
      "outputs": [
        {
          "output_type": "stream",
          "text": [
            "/usr/local/lib/python3.7/dist-packages/ipykernel_launcher.py:12: DataConversionWarning: A column-vector y was passed when a 1d array was expected. Please change the shape of y to (n_samples, ), for example using ravel().\n",
            "  if sys.path[0] == '':\n"
          ],
          "name": "stderr"
        },
        {
          "output_type": "execute_result",
          "data": {
            "text/plain": [
              "KNeighborsClassifier(algorithm='kd_tree', leaf_size=30, metric='minkowski',\n",
              "                     metric_params=None, n_jobs=None, n_neighbors=31, p=2,\n",
              "                     weights='uniform')"
            ]
          },
          "metadata": {
            "tags": []
          },
          "execution_count": 125
        }
      ]
    },
    {
      "cell_type": "markdown",
      "metadata": {
        "id": "ZoV1iz6Z3KMT"
      },
      "source": [
        "Para la comprobacion podria calcular exactitud, precision y f-measure. Puesto que solo tengo dos posibles clasificaciones (target=1 o target=0) puedo reutilizar el codigo que prepare para \"Clase 3 - Ejercicio 1\", adaptandolo adecuadamente."
      ]
    },
    {
      "cell_type": "code",
      "metadata": {
        "id": "E87BGjCl3KMU",
        "colab": {
          "base_uri": "https://localhost:8080/"
        },
        "outputId": "654fd253-a200-4343-de52-d3c55560a371"
      },
      "source": [
        "TP=0\n",
        "TN=0\n",
        "FP=0\n",
        "FN=0\n",
        "\n",
        "#Evaluo el clasificador binario respecto a \"1\" (caso positivo).\n",
        "\n",
        "#Como los elementos de prediccion y testeo tienen formato \"serie\" \n",
        "#y esto es ambiguo a nivel booleano, convierto en cada invocacion el parametro a \n",
        "#tipo int cada vez que lo invoco dentro de un \"if\"\n",
        "#No es la solucion mas elegante, pero no encontre una mejor buscando. \n",
        "#Acepto sugerencias\n",
        "\n",
        "for i in range(len(param_n_D_test)):\n",
        "  if (int(KNN_D.predict([param_n_D_test.iloc[i]]))==int(target_test.iloc[i])==1):    #Comparo la etiqueta predicha con la real y en base a eso asigno los parametros\n",
        "    TP=TP+1\n",
        "  elif (int(KNN_D.predict([param_n_D_test.iloc[i]]))==int(target_test.iloc[i])==0):\n",
        "    TN=TN+1\n",
        "  elif (int(KNN_D.predict([param_n_D_test.iloc[i]]))!=int(target_test.iloc[i])==1):\n",
        "    FN=FN+1\n",
        "  elif (int(KNN_D.predict([param_n_D_test.iloc[i]]))!=int(target_test.iloc[i])==0):\n",
        "    FP=FP+1\n",
        "\n",
        "#print(TP)\n",
        "#print(TN)\n",
        "#print(FP)\n",
        "#print(FN)\n",
        "\n",
        "#Calculo los parametros estadisticos\n",
        "exact_D = (TP+TN)/(TP+TN+FP+FN)\n",
        "prec_D =  TP/(TP+FP)\n",
        "f_m_D = TP/(TP+0.5*(FP+FN))\n",
        "print('Exactitud: ',exact_D,'\\nPrecision: ',prec_D,'\\nF-measure: ',f_m_D)"
      ],
      "execution_count": null,
      "outputs": [
        {
          "output_type": "stream",
          "text": [
            "Exactitud:  0.5992063492063492 \n",
            "Precision:  0.581651376146789 \n",
            "F-measure:  0.6107899807321773\n"
          ],
          "name": "stdout"
        }
      ]
    },
    {
      "cell_type": "markdown",
      "metadata": {
        "id": "gOjq226fYEPb"
      },
      "source": [
        "##COMPARACION"
      ]
    },
    {
      "cell_type": "markdown",
      "metadata": {
        "id": "Unzuka2lETLU"
      },
      "source": [
        "Presento finalmente los resultados de todos los clasificadores."
      ]
    },
    {
      "cell_type": "code",
      "metadata": {
        "colab": {
          "base_uri": "https://localhost:8080/"
        },
        "id": "rFCybU6TG1tO",
        "outputId": "869217b3-91ff-46e2-8644-93d533d6b820"
      },
      "source": [
        "print('\\t\\tMODELO A\\tMODELO B\\tMODELO C\\tMODELO D\\n')\n",
        "print('Exactitud:\\t',round(exact_A,4),'\\t\\t',round(exact_B,4),'\\t\\t',round(exact_C,4),'\\t\\t',round(exact_D,4),'\\n');\n",
        "print('Precision:\\t',round(prec_A,4),'\\t\\t',round(prec_B,4),'\\t\\t',round(prec_C,4),'\\t\\t',round(prec_D,4),'\\n');\n",
        "print('F-measure:\\t',round(f_m_A,4),'\\t\\t',round(f_m_B,4),'\\t\\t',round(f_m_C,4),'\\t\\t',round(f_m_D,4),'\\n');"
      ],
      "execution_count": null,
      "outputs": [
        {
          "output_type": "stream",
          "text": [
            "\t\tMODELO A\tMODELO B\tMODELO C\tMODELO D\n",
            "\n",
            "Exactitud:\t 0.5962 \t\t 0.5962 \t\t 0.5962 \t\t 0.5992 \n",
            "\n",
            "Precision:\t 0.579 \t\t 0.579 \t\t 0.579 \t\t 0.5817 \n",
            "\n",
            "F-measure:\t 0.6075 \t\t 0.6075 \t\t 0.6075 \t\t 0.6108 \n",
            "\n"
          ],
          "name": "stdout"
        }
      ]
    },
    {
      "cell_type": "markdown",
      "metadata": {
        "id": "C-2YWtoSL39G"
      },
      "source": [
        "##CONCLUSIONES\n",
        "\n",
        "Tras correr el codigo unas cuantas veces puedo decir lo siguiente:\n",
        "\n",
        "1. El ordenamiento aleatorio que se le da a la muestra influye en la performance del predictor, pero lo hace de igual medida en todos los modelos.\n",
        "2. No se ve diferencia notable entre los predictores. En todas las iteraciones obtienen parametros de performance bastante similares. \n",
        "3. El numero de vecinos que mejores resultados suele brindar es k=30 aproximadamente, que coincide casi con el criterio de la raiz de elementos del dataset de entrenamiento (sqrt(1000)=31.62). \n",
        "\n",
        "En base a estas observaciones concluyo que, de los clasificadores que he diseñado, el A es el mejor puesto que toma la menor cantidad de parametros del sistema y brinda resultados similares al del clasificador D, el cual toma casi todos los parametros incluyendo artista (excluyendo nombre de cancion). Aun asi no estoy satisfecho con el desempeño de ninguno pues en extremadamente raras ocasiones alguno de los parametros de performance supera el 60%. Todos los clasificadores resultan solo ligeramente mas eficaces que hacer un \"tiro de moneda\"."
      ]
    }
  ]
}