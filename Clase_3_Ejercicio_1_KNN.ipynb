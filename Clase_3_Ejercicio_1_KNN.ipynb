{
  "nbformat": 4,
  "nbformat_minor": 0,
  "metadata": {
    "colab": {
      "name": "Clase 3 - Ejercicio 1 - KNN",
      "provenance": [],
      "collapsed_sections": [],
      "authorship_tag": "ABX9TyNYm2DD9vufGG+AVjOQ800w",
      "include_colab_link": true
    },
    "kernelspec": {
      "name": "python3",
      "display_name": "Python 3"
    },
    "language_info": {
      "name": "python"
    }
  },
  "cells": [
    {
      "cell_type": "markdown",
      "metadata": {
        "id": "view-in-github",
        "colab_type": "text"
      },
      "source": [
        "<a href=\"https://colab.research.google.com/github/Kasaligan/Machine-Learning-UNS/blob/main/Clase_3_Ejercicio_1_KNN.ipynb\" target=\"_parent\"><img src=\"https://colab.research.google.com/assets/colab-badge.svg\" alt=\"Open In Colab\"/></a>"
      ]
    },
    {
      "cell_type": "markdown",
      "metadata": {
        "id": "65FbctV6Zpln"
      },
      "source": [
        "El metodo de KNN implementado es el del modulo ***Scikit Learn***, este permite implementar distintos algoritmos: \"auto\", \"ball_tree\", \"kd_tree\" y \"brute\". Tras buscar un poco, si bien no logro entender del todo como funcionan estos algoritmos, encontre un paper en el cual se concluye que el algoritmo \"kd_tree\" es mas rapido que \"ball_tree\" y da mejores resultados. El paper puede verse en el siguiente enlace:\n",
        "\n",
        "https://arxiv.org/ftp/arxiv/papers/1210/1210.6122.pdf\n",
        "\n",
        "Por esto se utilizara el algoritmo \"kd_tree\"."
      ]
    },
    {
      "cell_type": "code",
      "metadata": {
        "id": "kwWTLXWhZjdV"
      },
      "source": [
        "#Importo los modulos scikit learn y numpy para el procesamiento y pyplot para los graficos\n",
        "from sklearn.neighbors import KNeighborsClassifier\n",
        "import numpy as np\n",
        "import matplotlib.pyplot as plt\n"
      ],
      "execution_count": null,
      "outputs": []
    },
    {
      "cell_type": "markdown",
      "metadata": {
        "id": "IhNCFbwRg3f8"
      },
      "source": [
        "A continuacion construyo los dataset 2D.\n",
        "\n",
        "\n"
      ]
    },
    {
      "cell_type": "code",
      "metadata": {
        "id": "0eppkzP8g7di",
        "colab": {
          "base_uri": "https://localhost:8080/"
        },
        "outputId": "b1fb1251-b713-44e6-d146-db823ed43ad7"
      },
      "source": [
        "\n",
        "#A = np.random.normal(10, 3, size=(10000, 2))       #Esta genera dos datasets normales en un array, independientes, no es lo que busco \n",
        "\n",
        "#Creo el primer conjunto de datos\n",
        "centroide_1 = [10,5]\n",
        "varianza_1_x = 4      #recordar que varianza es cuadrado del desvio estandar, aca seria desvio=2\n",
        "varianza_1_y = 9      #desvio=3\n",
        "covarianza_1 = 1      #el factor de correlacion es cov/producto de desvios (no varianzas)\n",
        "matriz_cov_1 =([varianza_1_x , covarianza_1] , [covarianza_1 , varianza_1_y])\n",
        "A = np.random.multivariate_normal(centroide_1 , matriz_cov_1 , size=100)\n",
        "\n",
        "centroide_2 = [15,10]\n",
        "varianza_2_x = 9      #recordar que varianza es cuadrado del desvio estandar, aca seria desvio=2\n",
        "varianza_2_y = 9      #desvio=3\n",
        "covarianza_2 = -3      #el factor de correlacion es cov/producto de desvios (no varianzas)\n",
        "matriz_cov_2 =([varianza_2_x , covarianza_2] , [covarianza_2 , varianza_2_y])\n",
        "B = np.random.multivariate_normal(centroide_2 , matriz_cov_2 , size=100)\n",
        "\n",
        "#Grafico los datos\n",
        "plt.figure()\n",
        "plt.scatter(A[:,0],A[:,1],c= \"#8e44ad\", marker=\"^\")\n",
        "plt.scatter(B[:,0],B[:,1],c= \"#58d68d\", marker=\"o\")"
      ],
      "execution_count": null,
      "outputs": [
        {
          "output_type": "execute_result",
          "data": {
            "text/plain": [
              "<matplotlib.collections.PathCollection at 0x7fc08b099f50>"
            ]
          },
          "metadata": {
            "tags": []
          },
          "execution_count": 2
        },
        {
          "output_type": "display_data",
          "data": {
            "image/png": "[encoded data removed]",
            "text/plain": [
              "<Figure size 432x288 with 1 Axes>"
            ]
          },
          "metadata": {
            "tags": [],
            "needs_background": "light"
          }
        }
      ]
    },
    {
      "cell_type": "markdown",
      "metadata": {
        "id": "iGvuOKIdzHdQ"
      },
      "source": [
        "Separo los datasets en mitades. La primera mitad de cada dataset entrenara al sistema mientras que las segundas mitades de los datasets seran para comprobar su eficacia. Los datasets no se ordenan para mantener los datos aleatorios y tener una muestra en principio representativa de cada uno en cada mitad. Tambien preparamos las etiquetas (target) que acompañan a los datos"
      ]
    },
    {
      "cell_type": "code",
      "metadata": {
        "colab": {
          "base_uri": "https://localhost:8080/"
        },
        "id": "X0jrGUqQzizX",
        "outputId": "e09658ab-8c2e-49e3-a128-a68aa85c8a1b"
      },
      "source": [
        "#Datasets para entrenamiento\n",
        "A1=A[0:50]          #El vector creado va hasta 49 (limite superior no incluido)\n",
        "B1=B[0:50]\n",
        "Training_data = np.concatenate((A1,B1),axis=0)\n",
        "\n",
        "#Datasets para evaluacion\n",
        "A2=A[50:100]        #El vector creado va hasta 99 (limite superior no incluido)\n",
        "B2=B[50:100]\n",
        "Testing_data = np.concatenate((A2,B2),axis=0)\n",
        "\n",
        "#Preparo los target\n",
        "Target_A=[\"A\"]*50\n",
        "Target_B=[\"B\"]*50\n",
        "Target = np.concatenate((Target_A,Target_B),axis=0)\n",
        "\n",
        "print(Training_data)\n",
        "print(len(Testing_data))\n",
        "print(len(Target))"
      ],
      "execution_count": null,
      "outputs": [
        {
          "output_type": "stream",
          "text": [
            "[[13.89315375  4.32586828]\n",
            " [ 8.36776183 11.1354557 ]\n",
            " [ 7.01114685  2.14483805]\n",
            " [ 9.09512465  4.97347438]\n",
            " [10.23369747  5.26828475]\n",
            " [10.45356618  6.76476564]\n",
            " [11.98050455  5.68176139]\n",
            " [11.5781273   2.22673151]\n",
            " [ 7.93063357  7.65106921]\n",
            " [ 7.98949258  4.693441  ]\n",
            " [ 9.85321136  0.49470825]\n",
            " [ 7.228351    3.23024118]\n",
            " [ 9.92236802  5.94352059]\n",
            " [10.95206056  6.89503177]\n",
            " [10.91838215  0.53778132]\n",
            " [ 7.2938989   5.69265234]\n",
            " [ 8.38413917  5.96890518]\n",
            " [ 7.15001653 -1.11348432]\n",
            " [10.52889001  3.04133509]\n",
            " [ 7.23798802  6.52775986]\n",
            " [10.63867152  8.74415383]\n",
            " [ 7.34513221  5.23481638]\n",
            " [ 9.22421353  4.54770354]\n",
            " [ 7.80158263  1.59285333]\n",
            " [10.98337589  4.9530022 ]\n",
            " [15.90991872  5.70746295]\n",
            " [ 8.88873064  9.71088525]\n",
            " [12.70380432  6.49243866]\n",
            " [13.62648148  2.90816586]\n",
            " [10.68245848  6.27038154]\n",
            " [ 9.25203653  5.92200395]\n",
            " [11.9083273   3.90269301]\n",
            " [ 8.01511114  7.16341375]\n",
            " [ 4.90077214  6.06105866]\n",
            " [ 9.22260259  2.37662509]\n",
            " [ 9.67448596 10.10745169]\n",
            " [11.88119205  5.00333979]\n",
            " [ 9.11694358  9.45390227]\n",
            " [10.07789504  5.67793229]\n",
            " [11.12459971  4.26450526]\n",
            " [13.19483808 11.25058739]\n",
            " [11.89071392  1.1918435 ]\n",
            " [13.86026883  9.08458741]\n",
            " [12.3805726   7.20531131]\n",
            " [ 8.69135524  1.86566119]\n",
            " [12.07542871  8.01522516]\n",
            " [ 9.39557924  5.25369447]\n",
            " [10.53893668  6.53674128]\n",
            " [ 4.88555953 -1.86289968]\n",
            " [ 9.65045476  7.50896169]\n",
            " [10.11458071 17.84865559]\n",
            " [11.66329232 10.17042829]\n",
            " [ 7.93523518 13.01076156]\n",
            " [11.06247531 15.12067708]\n",
            " [13.86082433 14.80743639]\n",
            " [16.39641102 14.49293475]\n",
            " [16.80765945 10.76995622]\n",
            " [11.05268451  9.84955553]\n",
            " [18.31491462  8.9499465 ]\n",
            " [15.22321343  7.74937235]\n",
            " [15.07339793 14.18162861]\n",
            " [18.05394977  5.49621587]\n",
            " [14.35880366  9.3120824 ]\n",
            " [17.90215659  6.04998697]\n",
            " [15.62348259  7.80418497]\n",
            " [17.63081245  5.92659671]\n",
            " [18.35223019 10.31415666]\n",
            " [13.1180364  11.59898807]\n",
            " [14.20013207 11.18314822]\n",
            " [15.20245315  8.14260331]\n",
            " [11.25971866 14.67645148]\n",
            " [16.99054769 16.05571983]\n",
            " [16.61874392  5.24662523]\n",
            " [ 8.19805845  7.94806277]\n",
            " [ 9.09105289  8.47347912]\n",
            " [10.51282873 13.24795132]\n",
            " [14.38768005 12.22157364]\n",
            " [13.13177994  6.06112379]\n",
            " [14.12756826 12.55053364]\n",
            " [17.70719618 12.32621741]\n",
            " [ 8.5410431   8.32898321]\n",
            " [14.66945817  7.89769729]\n",
            " [12.56499567 10.74924834]\n",
            " [ 7.10691538 14.80368702]\n",
            " [16.52464158  9.34418183]\n",
            " [16.0664968   8.25588898]\n",
            " [15.4776215   7.1824272 ]\n",
            " [18.26732959  9.94075757]\n",
            " [12.66172746 11.17297464]\n",
            " [16.60898983 12.64286118]\n",
            " [13.06951025  9.47461861]\n",
            " [13.74253795 10.23837303]\n",
            " [13.38214349  5.26023293]\n",
            " [15.64997063 13.56681   ]\n",
            " [16.30796764 16.57317839]\n",
            " [13.58797347 11.78055051]\n",
            " [14.31884723  7.79488386]\n",
            " [11.88124723 15.1298648 ]\n",
            " [15.15886605 11.31179517]\n",
            " [ 9.04661215 13.80985244]]\n",
            "100\n",
            "100\n"
          ],
          "name": "stdout"
        }
      ]
    },
    {
      "cell_type": "markdown",
      "metadata": {
        "id": "CUW59pf80Bzf"
      },
      "source": [
        "A continuacion preparo el clasificador KNN."
      ]
    },
    {
      "cell_type": "code",
      "metadata": {
        "colab": {
          "base_uri": "https://localhost:8080/"
        },
        "id": "OCsRtsXR0GsG",
        "outputId": "67a6313b-bfc2-4096-b1d5-789a4cc3efee"
      },
      "source": [
        "KNN = KNeighborsClassifier(n_neighbors=10,algorithm=\"kd_tree\")\n",
        "KNN.fit(Training_data,Target)"
      ],
      "execution_count": null,
      "outputs": [
        {
          "output_type": "execute_result",
          "data": {
            "text/plain": [
              "KNeighborsClassifier(algorithm='kd_tree', leaf_size=30, metric='minkowski',\n",
              "                     metric_params=None, n_jobs=None, n_neighbors=10, p=2,\n",
              "                     weights='uniform')"
            ]
          },
          "metadata": {
            "tags": []
          },
          "execution_count": 4
        }
      ]
    },
    {
      "cell_type": "markdown",
      "metadata": {
        "id": "uX6ir7z077TY"
      },
      "source": [
        "Testeo el clasificador KNN. Aun asi, esta es la unica medida que puedo obtener directamente asi que guardare las predicciones para cada valor de testeo y calculare precision, exactitud y f-measure manualmente. "
      ]
    },
    {
      "cell_type": "code",
      "metadata": {
        "colab": {
          "base_uri": "https://localhost:8080/"
        },
        "id": "L1OOWq5G79Ap",
        "outputId": "07ae623c-033e-458d-e06e-b207a0ce201a"
      },
      "source": [
        "exactitud = KNN.score(Testing_data,Target)\n",
        "print(exactitud)"
      ],
      "execution_count": null,
      "outputs": [
        {
          "output_type": "stream",
          "text": [
            "0.86\n"
          ],
          "name": "stdout"
        }
      ]
    },
    {
      "cell_type": "markdown",
      "metadata": {
        "id": "8X5TJObI-HoS"
      },
      "source": [
        "Implemento el bucle para calcular los valores TP, TN, FP y FN."
      ]
    },
    {
      "cell_type": "code",
      "metadata": {
        "colab": {
          "base_uri": "https://localhost:8080/"
        },
        "id": "tiH4MsNG-dai",
        "outputId": "8cee7f7a-ee5e-4f34-daa2-f095ce074d4e"
      },
      "source": [
        "TP=0\n",
        "TN=0\n",
        "FP=0\n",
        "FN=0\n",
        "\n",
        "#Evaluo el clasificador binario respecto a \"A\", pues el que es respecto a \"B\" por tener solo dos clases es el reciproco.\n",
        "\n",
        "for i in range(0,100):\n",
        "  if (KNN.predict([Testing_data[i]])==Target[i]==\"A\"):    #Comparo la etiqueta predicha con la real y en base a eso asigno los parametros\n",
        "    TP=TP+1\n",
        "  elif (KNN.predict([Testing_data[i]])==Target[i]==\"B\"):\n",
        "    TN=TN+1\n",
        "  elif (KNN.predict([Testing_data[i]])!=Target[i]==\"A\"):\n",
        "    FN=FN+1\n",
        "  elif (KNN.predict([Testing_data[i]])!=Target[i]==\"B\"):\n",
        "    FP=FP+1\n",
        "\n",
        "#print(KNN.predict([Testing_data[0,:]]))    para ver la prediccion de un solo valor\n",
        "#print(KNN.predict_proba(Testing_data))     para ver la probabilidad de cada prediccion\n",
        "\n",
        "print(TP)\n",
        "print(TN)\n",
        "print(FP)\n",
        "print(FN)\n"
      ],
      "execution_count": null,
      "outputs": [
        {
          "output_type": "stream",
          "text": [
            "44\n",
            "42\n",
            "8\n",
            "6\n"
          ],
          "name": "stdout"
        }
      ]
    },
    {
      "cell_type": "markdown",
      "metadata": {
        "id": "93LBfZZytIV_"
      },
      "source": [
        "Finalmete evaluo los parametros deseados."
      ]
    },
    {
      "cell_type": "code",
      "metadata": {
        "colab": {
          "base_uri": "https://localhost:8080/"
        },
        "id": "-k0tvU7vtfjS",
        "outputId": "fac55992-c1e0-4460-b2fe-f4aa11f9cf82"
      },
      "source": [
        "exact = (TP+TN)/(TP+TN+FP+FN)\n",
        "prec =  TP/(TP+FP)\n",
        "f_m = TP/(TP+0.5*(FP+FN))\n",
        "print(\"Exactitud: \",exact,\"\\nPrecision: \",prec,\"\\nF-measure: \",f_m)"
      ],
      "execution_count": null,
      "outputs": [
        {
          "output_type": "stream",
          "text": [
            "Exactitud:  0.86 \n",
            "Precision:  0.8461538461538461 \n",
            "F-measure:  0.8627450980392157\n"
          ],
          "name": "stdout"
        }
      ]
    },
    {
      "cell_type": "markdown",
      "metadata": {
        "id": "HVYLpY2GXEKW"
      },
      "source": [
        "**Conclusiones\n",
        "\n",
        "Tras jugar con los parametros de las distribuciones observo lo siguiente:\n",
        "\n",
        "1. Al acercar los valores de las medias la calidad del clasificador se deteriora, cosa que es de esperarse ya que las nubes de puntos empiezan a estar cada vez mas superpuestas.\n",
        "2. Algo similar a lo anterior sucede cuando se aumentan las desviaciones lo suficiente como para que empiecen a interaccionar los dos conjuntos. \n",
        "3. Al jugar con la cantidad de puntos que evalua el KNN, veo que 10 es un valor \"lindo\". Con pocos puntos evaluados se deteriora la performance, al igual que cuando se elige evaluar un numero elevado de puntos."
      ]
    }
  ]
}