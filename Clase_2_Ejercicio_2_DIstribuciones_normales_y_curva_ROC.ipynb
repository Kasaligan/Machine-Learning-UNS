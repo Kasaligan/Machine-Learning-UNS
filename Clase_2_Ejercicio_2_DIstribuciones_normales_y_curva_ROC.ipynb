{
  "nbformat": 4,
  "nbformat_minor": 0,
  "metadata": {
    "colab": {
      "name": "Clase 2 - Ejercicio 2 - DIstribuciones normales y curva ROC",
      "provenance": [],
      "collapsed_sections": [],
      "authorship_tag": "ABX9TyPoUBjeVgebjThFMtChL8Sl",
      "include_colab_link": true
    },
    "kernelspec": {
      "name": "python3",
      "display_name": "Python 3"
    },
    "language_info": {
      "name": "python"
    }
  },
  "cells": [
    {
      "cell_type": "markdown",
      "metadata": {
        "id": "view-in-github",
        "colab_type": "text"
      },
      "source": [
        "<a href=\"https://colab.research.google.com/github/Kasaligan/Machine-Learning-UNS/blob/main/Clase_2_Ejercicio_2_DIstribuciones_normales_y_curva_ROC.ipynb\" target=\"_parent\"><img src=\"https://colab.research.google.com/assets/colab-badge.svg\" alt=\"Open In Colab\"/></a>"
      ]
    },
    {
      "cell_type": "markdown",
      "metadata": {
        "id": "aOQn8v_dgFXP"
      },
      "source": [
        "Importo modulos necesarios."
      ]
    },
    {
      "cell_type": "code",
      "metadata": {
        "id": "Jmm6vS-wfsWS"
      },
      "source": [
        "import numpy as np\n",
        "import pandas as pd\n",
        "import math"
      ],
      "execution_count": null,
      "outputs": []
    },
    {
      "cell_type": "markdown",
      "metadata": {
        "id": "i-tQIfCBgBkB"
      },
      "source": [
        "Genero las distribuciones gaussianas."
      ]
    },
    {
      "cell_type": "code",
      "metadata": {
        "id": "NmSVFi6Bi6r8"
      },
      "source": [
        "Muestras=50\n",
        "Media_1 = 10 \n",
        "desvio_1 = 3\n",
        "Media_2 = 15 \n",
        "desvio_2 = 5\n",
        "\n",
        "A = np.random.normal(Media_1,desvio_1,Muestras)\n",
        "B = np.random.normal(Media_2,desvio_2,Muestras)\n",
        "\n",
        "#print(\"Distribucion A = \" , A, \"\\n\")\n",
        "#print(\"Distribucion B = \" , B)"
      ],
      "execution_count": null,
      "outputs": []
    },
    {
      "cell_type": "markdown",
      "metadata": {
        "id": "QYYrmN8AiXpp"
      },
      "source": [
        "Genero vectores con las etiquetas \"A\" y \"B\" para concatenar con los anteriores. Esto ayudara a la hora de hacer la curva ROC."
      ]
    },
    {
      "cell_type": "code",
      "metadata": {
        "id": "n7a2_ZHFiWv6"
      },
      "source": [
        "Avect=[\"A\"]*len(A)\n",
        "Bvect=[\"B\"]*len(B)"
      ],
      "execution_count": null,
      "outputs": []
    },
    {
      "cell_type": "markdown",
      "metadata": {
        "id": "3tnDrz2-k8Lr"
      },
      "source": [
        "Concateno los vectores de dimensiones similares en un array de Nx2, donde N es la cantidad de elementos de las listas."
      ]
    },
    {
      "cell_type": "code",
      "metadata": {
        "id": "jo4W60AolFgv"
      },
      "source": [
        "A_labeled_data=np.column_stack((A,Avect))\n",
        "#print(A_labeled_data,\"\\n\")\n",
        "B_labeled_data=np.column_stack((B,Bvect))\n",
        "#print(B_labeled_data)"
      ],
      "execution_count": null,
      "outputs": []
    },
    {
      "cell_type": "markdown",
      "metadata": {
        "id": "1imYvU9UmTlr"
      },
      "source": [
        "Concateno los vectores como columnas"
      ]
    },
    {
      "cell_type": "code",
      "metadata": {
        "id": "APL3hDxmoVUl",
        "colab": {
          "base_uri": "https://localhost:8080/"
        },
        "outputId": "663556bb-ba58-4366-a28f-cc8f6f883dc1"
      },
      "source": [
        "Valores_etiquetados = np.concatenate((A_labeled_data,B_labeled_data),axis=0)\n",
        "print(Valores_etiquetados)\n"
      ],
      "execution_count": null,
      "outputs": [
        {
          "output_type": "stream",
          "text": [
            "[['9.895287154477177' 'A']\n",
            " ['9.067245850271503' 'A']\n",
            " ['13.375422634718838' 'A']\n",
            " ['16.330297218565974' 'A']\n",
            " ['12.609842118170839' 'A']\n",
            " ['9.288005031180932' 'A']\n",
            " ['12.225502959724428' 'A']\n",
            " ['7.762625500946272' 'A']\n",
            " ['11.472127736288448' 'A']\n",
            " ['9.49953383991692' 'A']\n",
            " ['10.27549746867205' 'A']\n",
            " ['9.711535270316782' 'A']\n",
            " ['10.222406998346138' 'A']\n",
            " ['9.4535021653287' 'A']\n",
            " ['11.601786330302057' 'A']\n",
            " ['7.8848920365479715' 'A']\n",
            " ['13.120256991613163' 'A']\n",
            " ['11.371172461158915' 'A']\n",
            " ['11.30940420631891' 'A']\n",
            " ['8.348800997541133' 'A']\n",
            " ['9.852912936183326' 'A']\n",
            " ['10.950586848094979' 'A']\n",
            " ['3.2401692646211337' 'A']\n",
            " ['4.414445457675027' 'A']\n",
            " ['9.916465633321517' 'A']\n",
            " ['7.839865010274284' 'A']\n",
            " ['14.338473806045242' 'A']\n",
            " ['10.230697013927498' 'A']\n",
            " ['10.194899325746464' 'A']\n",
            " ['11.183793640314235' 'A']\n",
            " ['9.375079289089998' 'A']\n",
            " ['9.789586289071819' 'A']\n",
            " ['9.357623522596413' 'A']\n",
            " ['10.991008243256358' 'A']\n",
            " ['6.676775061247861' 'A']\n",
            " ['5.435592888477602' 'A']\n",
            " ['10.349164007790423' 'A']\n",
            " ['11.679983344302434' 'A']\n",
            " ['7.074658855110247' 'A']\n",
            " ['13.172831393470751' 'A']\n",
            " ['9.128752055299637' 'A']\n",
            " ['12.975860243037397' 'A']\n",
            " ['9.52433477763857' 'A']\n",
            " ['4.234496249083895' 'A']\n",
            " ['6.435519683139219' 'A']\n",
            " ['10.300468822219408' 'A']\n",
            " ['12.081005373043972' 'A']\n",
            " ['9.32610143403615' 'A']\n",
            " ['8.172622243535852' 'A']\n",
            " ['15.773820997358932' 'A']\n",
            " ['13.082638829908383' 'B']\n",
            " ['15.784178736391913' 'B']\n",
            " ['6.922107644874947' 'B']\n",
            " ['19.687805463816726' 'B']\n",
            " ['5.975673207571138' 'B']\n",
            " ['6.38761594758671' 'B']\n",
            " ['13.74160786693778' 'B']\n",
            " ['16.574651758375133' 'B']\n",
            " ['12.288393705356961' 'B']\n",
            " ['13.90007873709271' 'B']\n",
            " ['17.464283243490257' 'B']\n",
            " ['12.105192762541297' 'B']\n",
            " ['12.312716105044137' 'B']\n",
            " ['9.519774663330402' 'B']\n",
            " ['11.884602839746062' 'B']\n",
            " ['15.188034244205193' 'B']\n",
            " ['15.165466523950085' 'B']\n",
            " ['21.159629036246685' 'B']\n",
            " ['12.965292845759304' 'B']\n",
            " ['11.624891441851474' 'B']\n",
            " ['16.33403644310072' 'B']\n",
            " ['16.319114845260252' 'B']\n",
            " ['17.395767584510846' 'B']\n",
            " ['15.016593343748115' 'B']\n",
            " ['20.55376499460436' 'B']\n",
            " ['16.882279309205412' 'B']\n",
            " ['9.354920991277758' 'B']\n",
            " ['6.309725870908881' 'B']\n",
            " ['14.420293590894076' 'B']\n",
            " ['16.052038985461085' 'B']\n",
            " ['17.613546204613517' 'B']\n",
            " ['20.036066506092553' 'B']\n",
            " ['8.494529969715732' 'B']\n",
            " ['12.682946083007089' 'B']\n",
            " ['12.803987464680523' 'B']\n",
            " ['12.700396457398064' 'B']\n",
            " ['7.826464188261497' 'B']\n",
            " ['17.666678244125166' 'B']\n",
            " ['9.60332534534358' 'B']\n",
            " ['20.99170977039901' 'B']\n",
            " ['27.21677027466546' 'B']\n",
            " ['15.780351011623278' 'B']\n",
            " ['14.581805964719752' 'B']\n",
            " ['20.33339070669531' 'B']\n",
            " ['16.60611998905546' 'B']\n",
            " ['12.795079805654677' 'B']\n",
            " ['11.184296639499266' 'B']\n",
            " ['20.50195343799975' 'B']\n",
            " ['7.21443618627741' 'B']\n",
            " ['12.74054811614872' 'B']]\n"
          ],
          "name": "stdout"
        }
      ]
    },
    {
      "cell_type": "markdown",
      "metadata": {
        "id": "V4XyieFMpKDj"
      },
      "source": [
        "Al concatenar los valores de las celdas se convierten en tipo \"string\". Confirmo que la primera columna es tipo string y luego la convierto en tipo numerico para poder organizar de menor a mayor la lista. Al organizar muevo las etiquetas junto a los valores."
      ]
    },
    {
      "cell_type": "code",
      "metadata": {
        "id": "ag7zhPV9pQM8",
        "colab": {
          "base_uri": "https://localhost:8080/"
        },
        "outputId": "d5e488a5-9224-46b7-c9e4-3f774d9d0b37"
      },
      "source": [
        "#Genero un dataframe con los valores etiquetados, pues es mas facil de trabajar.\n",
        "Valores_etiquetados_df = pd.DataFrame(Valores_etiquetados,columns=[\"Valor\", \"Etiqueta\"])\n",
        "\n",
        "#Convierto los valores de la columnda \"Valor\" en tipo numerico, la funcion determina el tipo mas adecuado.\n",
        "Valores_etiquetados_df.loc[:,\"Valor\"] = pd.to_numeric(Valores_etiquetados_df.loc[:,\"Valor\"])\n",
        "\n",
        "type(Valores_etiquetados_df.loc[0,\"Valor\"]) #Confirmo la conversion\n",
        "\n",
        "#Ordeno el dataframe segun la columna \"Valor\"\n",
        "Org_creciente = Valores_etiquetados_df.sort_values(\"Valor\")\n",
        "print(Org_creciente)"
      ],
      "execution_count": null,
      "outputs": [
        {
          "output_type": "stream",
          "text": [
            "        Valor Etiqueta\n",
            "22   3.240169        A\n",
            "43   4.234496        A\n",
            "23   4.414445        A\n",
            "35   5.435593        A\n",
            "54   5.975673        B\n",
            "..        ...      ...\n",
            "97  20.501953        B\n",
            "74  20.553765        B\n",
            "89  20.991710        B\n",
            "67  21.159629        B\n",
            "90  27.216770        B\n",
            "\n",
            "[100 rows x 2 columns]\n"
          ],
          "name": "stdout"
        }
      ]
    },
    {
      "cell_type": "markdown",
      "metadata": {
        "id": "Df1NPbYR5w9t"
      },
      "source": [
        "Reseteo los indices de las filas, pues al ordenarlos reordena tambien los valores de los indices.\n"
      ]
    },
    {
      "cell_type": "code",
      "metadata": {
        "id": "BpkEoYVH4n1F",
        "colab": {
          "base_uri": "https://localhost:8080/"
        },
        "outputId": "06d493dc-cf91-449e-bf31-a15823cbcb3b"
      },
      "source": [
        "Org_creciente=Org_creciente.reset_index(drop=True) #drop=True elimina los indices anteriores, sino pasan a ser una columna extra\n",
        "print(Org_creciente)\n"
      ],
      "execution_count": null,
      "outputs": [
        {
          "output_type": "stream",
          "text": [
            "        Valor Etiqueta\n",
            "0    3.240169        A\n",
            "1    4.234496        A\n",
            "2    4.414445        A\n",
            "3    5.435593        A\n",
            "4    5.975673        B\n",
            "..        ...      ...\n",
            "95  20.501953        B\n",
            "96  20.553765        B\n",
            "97  20.991710        B\n",
            "98  21.159629        B\n",
            "99  27.216770        B\n",
            "\n",
            "[100 rows x 2 columns]\n"
          ],
          "name": "stdout"
        }
      ]
    },
    {
      "cell_type": "markdown",
      "metadata": {
        "id": "jMzCOt-BHah2"
      },
      "source": [
        "Creo el vector para generar la curva ROC (no normalizado)\n",
        "\n"
      ]
    },
    {
      "cell_type": "code",
      "metadata": {
        "id": "HvZM4y5cIUZe",
        "colab": {
          "base_uri": "https://localhost:8080/"
        },
        "outputId": "b57d91ce-0c10-4692-b86e-7b43290fec8a"
      },
      "source": [
        "#Para esta parte solo necesito las etiquetas, no los valores en si. Guardo un dataframe con las etiquetas.\n",
        "Etiqueta_ordenado=Org_creciente.loc[:,\"Etiqueta\"]\n",
        "\n",
        "#Creo un vector donde guardar el crecimiento de la curva ROC segun el orden de las etiquetas\n",
        "Crecimiento_ROC=pd.DataFrame();\n",
        "\n",
        "\n",
        "#Bucle para procesar los crecimientos\n",
        "for i in range(0,len(Org_creciente.loc[:,\"Etiqueta\"])):\n",
        "\n",
        "#A continuacion segun la etiqueta del vector se crea un dataframe con el paso que debe realizarse en el grafico de la curva ROC. Consideramos \"A\" como el caso verdadero\n",
        "  if Org_creciente.loc[i,\"Etiqueta\"]==\"A\":\n",
        "    agregar=pd.DataFrame( {\"x\":[0],\"y\":[1],\"Valor\":Org_creciente.loc[i,\"Valor\"]} )   #De esta forma se crean los vectores con etiquetas de columna, que seran las coordenadas del grafico.\n",
        "\n",
        "  elif Org_creciente.loc[i,\"Etiqueta\"]==\"B\":\n",
        "    agregar=pd.DataFrame( {\"x\":[1],\"y\":[0],\"Valor\":Org_creciente.loc[i,\"Valor\"]} )\n",
        "\n",
        "  Crecimiento_ROC = Crecimiento_ROC.append(agregar) #Agrego los segmentos al dataframe\n",
        "\n",
        "print(Crecimiento_ROC)\n",
        "type(Crecimiento_ROC)\n"
      ],
      "execution_count": null,
      "outputs": [
        {
          "output_type": "stream",
          "text": [
            "    x  y      Valor\n",
            "0   0  1   3.240169\n",
            "0   0  1   4.234496\n",
            "0   0  1   4.414445\n",
            "0   0  1   5.435593\n",
            "0   1  0   5.975673\n",
            ".. .. ..        ...\n",
            "0   1  0  20.501953\n",
            "0   1  0  20.553765\n",
            "0   1  0  20.991710\n",
            "0   1  0  21.159629\n",
            "0   1  0  27.216770\n",
            "\n",
            "[100 rows x 3 columns]\n"
          ],
          "name": "stdout"
        },
        {
          "output_type": "execute_result",
          "data": {
            "text/plain": [
              "pandas.core.frame.DataFrame"
            ]
          },
          "metadata": {
            "tags": []
          },
          "execution_count": 43
        }
      ]
    },
    {
      "cell_type": "markdown",
      "metadata": {
        "id": "wCSc8I1tuuKI"
      },
      "source": [
        "Noto que los indices de las filas se pasaron a cero (pasa siempre que se agrega algo con append, se conserva el indice de lo que se agrego), los reseteo y continuo asignando los puntos.\n",
        "\n",
        "---\n",
        "\n"
      ]
    },
    {
      "cell_type": "code",
      "metadata": {
        "id": "-biNIt_Dck7i",
        "colab": {
          "base_uri": "https://localhost:8080/"
        },
        "outputId": "6a1415ff-61c2-49f5-dfbb-b25eb4312eac"
      },
      "source": [
        "#Reseteo indices de las filas\n",
        "Crecimiento_ROC=Crecimiento_ROC.reset_index(drop=True)\n",
        "#print(Crecimiento_ROC)\n",
        "#Creo un vector donde guardar los puntos que seran graficados\n",
        "Puntos_ROC=pd.DataFrame();\n",
        "\n",
        "#Bucle para generar los puntos a graficar\n",
        "for i in range(0,len(Crecimiento_ROC)):\n",
        "  if (i==0):\n",
        "    Puntos_ROC=Puntos_ROC.append( Crecimiento_ROC.loc[i,:] )  #Si es la primera iteracion, asigno el primer valor del crecimiento\n",
        "  else:\n",
        "    a=Crecimiento_ROC.loc[i,\"x\"]+Puntos_ROC.loc[i-1,\"x\"]    #Para el resto de las iteraciones sumo el valor anterior del punto al valor del crecimiento actual\n",
        "    b=Crecimiento_ROC.loc[i,\"y\"]+Puntos_ROC.loc[i-1,\"y\"]  \n",
        "    agregar=pd.DataFrame({\"x\":[a],\"y\":[b],\"Valor\":Crecimiento_ROC.loc[i,\"Valor\"]},index=[i]) #fila para agregar al dataframe, con las mismas etiquetas\n",
        "                                                      #es importante aclarar el indice con el que quiero que se agreguen los datos, pues lo utilizo\n",
        "                                                      #para el calculo \n",
        "    Puntos_ROC=Puntos_ROC.append(agregar) #agrego la fila\n",
        "    #print(Puntos_ROC)\n",
        "\n",
        "#Como agregue con append, reseteo indices\n",
        "Puntos_ROC=Puntos_ROC.reset_index(drop=True)\n",
        "print(Puntos_ROC) \n"
      ],
      "execution_count": null,
      "outputs": [
        {
          "output_type": "stream",
          "text": [
            "        Valor     x     y\n",
            "0    3.240169   0.0   1.0\n",
            "1    4.234496   0.0   2.0\n",
            "2    4.414445   0.0   3.0\n",
            "3    5.435593   0.0   4.0\n",
            "4    5.975673   1.0   4.0\n",
            "..        ...   ...   ...\n",
            "95  20.501953  46.0  50.0\n",
            "96  20.553765  47.0  50.0\n",
            "97  20.991710  48.0  50.0\n",
            "98  21.159629  49.0  50.0\n",
            "99  27.216770  50.0  50.0\n",
            "\n",
            "[100 rows x 3 columns]\n"
          ],
          "name": "stdout"
        }
      ]
    },
    {
      "cell_type": "markdown",
      "metadata": {
        "id": "6YGmC_6G41qn"
      },
      "source": [
        "Ploteo la curva ROC xq puedo y quiero "
      ]
    },
    {
      "cell_type": "code",
      "metadata": {
        "colab": {
          "base_uri": "https://localhost:8080/",
          "height": 1000
        },
        "id": "6mnGXU_sl21-",
        "outputId": "425519b4-50dc-49db-f175-23ffe884fd75"
      },
      "source": [
        "#Importo el modulo pyplot\n",
        "import matplotlib.pyplot as plt\n",
        "\n",
        "#Ploteo y divido por la cantidad de elementos para normalizar la curva\n",
        "Xsize=A.size  #Recordemos que la variable \"x\" corresponde a los casos en \"A\"\n",
        "Ysize=B.size  #Recordemos que la variable \"y\" corresponde a los casos en \"B\"\n",
        "\n",
        "plt.plot(Puntos_ROC.loc[:,\"x\"]/Xsize, Puntos_ROC.loc[:,\"y\"]/Ysize)\n",
        "\n",
        "#De onda van tambien los histogramas\n",
        "plt.figure()\n",
        "plt.hist(x=A, bins=range(0,round(max(A)+1)), color='#F2AB6D', rwidth=0.85,)\n",
        "plt.figure()\n",
        "plt.hist(x=B, bins=range(0,round(max(B)+1)), color='#2ff410', rwidth=0.85,)\n",
        "plt.figure()\n",
        "plt.hist(x=A, bins=range(0,round(max(A)+1)), color='#F2AB6D', rwidth=0.85,)\n",
        "plt.hist(x=B, bins=range(0,round(max(B)+1)), color='#2ff410', rwidth=0.85,)\n",
        "\n",
        "\n"
      ],
      "execution_count": null,
      "outputs": [
        {
          "output_type": "execute_result",
          "data": {
            "text/plain": [
              "(array([0., 0., 0., 0., 0., 1., 3., 2., 1., 3., 0., 3., 9., 3., 2., 5., 6.,\n",
              "        4., 0., 1., 5., 1., 0., 0., 0., 0., 0.]),\n",
              " array([ 0,  1,  2,  3,  4,  5,  6,  7,  8,  9, 10, 11, 12, 13, 14, 15, 16,\n",
              "        17, 18, 19, 20, 21, 22, 23, 24, 25, 26, 27]),\n",
              " <a list of 27 Patch objects>)"
            ]
          },
          "metadata": {
            "tags": []
          },
          "execution_count": 45
        },
        {
          "output_type": "display_data",
          "data": {
            "image/png": "[encoded data removed]",
            "text/plain": [
              "<Figure size 432x288 with 1 Axes>"
            ]
          },
          "metadata": {
            "tags": [],
            "needs_background": "light"
          }
        },
        {
          "output_type": "display_data",
          "data": {
            "image/png": "[encoded data removed]",
            "text/plain": [
              "<Figure size 432x288 with 1 Axes>"
            ]
          },
          "metadata": {
            "tags": [],
            "needs_background": "light"
          }
        },
        {
          "output_type": "display_data",
          "data": {
            "image/png": "[encoded data removed]",
            "text/plain": [
              "<Figure size 432x288 with 1 Axes>"
            ]
          },
          "metadata": {
            "tags": [],
            "needs_background": "light"
          }
        },
        {
          "output_type": "display_data",
          "data": {
            "image/png": "[encoded data removed]",
            "text/plain": [
              "<Figure size 432x288 with 1 Axes>"
            ]
          },
          "metadata": {
            "tags": [],
            "needs_background": "light"
          }
        }
      ]
    },
    {
      "cell_type": "markdown",
      "metadata": {
        "id": "cjzRrXXP7pla"
      },
      "source": [
        "Preparo un codigo que mida la distancia desde cada punto de la curva ROC hasta la recta identidad. El codigo se queda con el maximo valor de esta distancia y el valor del punto que la genero. La distancia se calcula con los valores NO NORMALIZADOS, por lo que la distancia maxima puede ser bastante grande.\n",
        "Los pasos para encontrar esta distancia son:\n",
        "\n",
        "1- Generar una recta perpendicular a la identidad que pase por el punto evaluado.\n",
        "\n",
        "2- Identificar el punto de la recta que pertenece a la identidad. \n",
        "\n",
        "3- Hallar el modulo vector distancia entre dos puntos usando pitagoras."
      ]
    },
    {
      "cell_type": "code",
      "metadata": {
        "colab": {
          "base_uri": "https://localhost:8080/"
        },
        "id": "W-mKCMYc_gCM",
        "outputId": "c8501e09-c73d-45d1-c976-78ff02db6ebc"
      },
      "source": [
        "#Importo modulo MATH pues... voy a usar matematica\n",
        "import math\n",
        "\n",
        "#Inicializo variable para guardar la distancia maxima\n",
        "Dist_MAX=0;\n",
        "\n",
        "for i in range(1,len(Puntos_ROC.iloc[:,1])):\n",
        "  m = -1  #pendiente perpendicular a la identidad\n",
        "  X0= Puntos_ROC.loc[i,\"x\"] #punto evaluado X \n",
        "  Y0= Puntos_ROC.loc[i,\"y\"] #punto evaluado Y\n",
        "  Y1 = (-m*X0+Y0)/(1-m)   #Valor de la recta identidad que se corresponde a la recta construida\n",
        "  X1=Y1    #Valor X1=Y1 por ser la recta identidad\n",
        "  Distancia=math.sqrt((X1-X0)**2+(Y1-Y0)**2)  #Calculo de la distancia\n",
        "  if (Distancia>Dist_MAX):  #Si es mayor a la distancia maxima anterior, se guardan los datos del punto\n",
        "    Dist_MAX=Distancia\n",
        "    Xmax=X0\n",
        "    Ymax=Y0\n",
        "    Valor_dist_MAX=Puntos_ROC.loc[i,\"Valor\"]\n",
        "\n",
        "#Se muestran los valores de interes para el clasificador, en particular el Valor de corte\n",
        "print(\"Maxima distancia: \",Dist_MAX,\"\\nPunto: (\", Xmax ,\", \" , Ymax , \")\\nValor de corte: \" , Valor_dist_MAX)\n",
        "\n"
      ],
      "execution_count": null,
      "outputs": [
        {
          "output_type": "stream",
          "text": [
            "Maxima distancia:  19.79898987322333 \n",
            "Punto: ( 11.0 ,  39.0 )\n",
            "Valor de corte:  11.601786330302055\n"
          ],
          "name": "stdout"
        }
      ]
    }
  ]
}